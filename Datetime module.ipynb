{
 "cells": [
  {
   "cell_type": "code",
   "execution_count": 3,
   "id": "b7cfd14e-3119-4292-b9d5-2449b56885c3",
   "metadata": {},
   "outputs": [],
   "source": [
    "from datetime import datetime, date,time"
   ]
  },
  {
   "cell_type": "code",
   "execution_count": 4,
   "id": "076018c4-165c-45a7-98fa-fbc50da2202b",
   "metadata": {},
   "outputs": [
    {
     "data": {
      "text/plain": [
       "datetime.datetime(2011, 10, 29, 21, 27, 21)"
      ]
     },
     "execution_count": 4,
     "metadata": {},
     "output_type": "execute_result"
    }
   ],
   "source": [
    "dt=datetime(2011,10,29,21,27,21)\n",
    "dt"
   ]
  },
  {
   "cell_type": "code",
   "execution_count": 6,
   "id": "876b8d87-a574-41cf-9769-15701b65dbee",
   "metadata": {},
   "outputs": [
    {
     "data": {
      "text/plain": [
       "29"
      ]
     },
     "execution_count": 6,
     "metadata": {},
     "output_type": "execute_result"
    }
   ],
   "source": [
    "dt.day"
   ]
  },
  {
   "cell_type": "code",
   "execution_count": 7,
   "id": "032b5b60-76e8-4353-91e5-c49ba80dbaba",
   "metadata": {},
   "outputs": [
    {
     "data": {
      "text/plain": [
       "10"
      ]
     },
     "execution_count": 7,
     "metadata": {},
     "output_type": "execute_result"
    }
   ],
   "source": [
    "dt.month"
   ]
  },
  {
   "cell_type": "code",
   "execution_count": 8,
   "id": "425cd0a2-b950-4491-b1ca-4e95e9bc536e",
   "metadata": {},
   "outputs": [
    {
     "data": {
      "text/plain": [
       "2011"
      ]
     },
     "execution_count": 8,
     "metadata": {},
     "output_type": "execute_result"
    }
   ],
   "source": [
    "dt.year"
   ]
  },
  {
   "cell_type": "code",
   "execution_count": 9,
   "id": "d2ecb3bc-6d64-4bc8-b81b-cefe2a48cf5a",
   "metadata": {},
   "outputs": [
    {
     "data": {
      "text/plain": [
       "27"
      ]
     },
     "execution_count": 9,
     "metadata": {},
     "output_type": "execute_result"
    }
   ],
   "source": [
    "dt.minute"
   ]
  },
  {
   "cell_type": "code",
   "execution_count": 11,
   "id": "b1135ddd-dac5-489c-8990-4fcd75bcd790",
   "metadata": {},
   "outputs": [
    {
     "data": {
      "text/plain": [
       "21"
      ]
     },
     "execution_count": 11,
     "metadata": {},
     "output_type": "execute_result"
    }
   ],
   "source": [
    "dt.second"
   ]
  },
  {
   "cell_type": "code",
   "execution_count": 12,
   "id": "fc2da151-a474-40d5-be2f-f06ce3bf417e",
   "metadata": {},
   "outputs": [
    {
     "data": {
      "text/plain": [
       "21"
      ]
     },
     "execution_count": 12,
     "metadata": {},
     "output_type": "execute_result"
    }
   ],
   "source": [
    "dt.hour"
   ]
  },
  {
   "cell_type": "code",
   "execution_count": 13,
   "id": "486cf544-2fa1-413f-8b14-e1303b1d1056",
   "metadata": {},
   "outputs": [
    {
     "data": {
      "text/plain": [
       "datetime.time(21, 27, 21)"
      ]
     },
     "execution_count": 13,
     "metadata": {},
     "output_type": "execute_result"
    }
   ],
   "source": [
    "dt.time()"
   ]
  },
  {
   "cell_type": "code",
   "execution_count": 15,
   "id": "c1c24a99-7e55-44fa-862e-22ad6b8720cf",
   "metadata": {},
   "outputs": [
    {
     "data": {
      "text/plain": [
       "datetime.date(2011, 10, 29)"
      ]
     },
     "execution_count": 15,
     "metadata": {},
     "output_type": "execute_result"
    }
   ],
   "source": [
    "dt.date()"
   ]
  },
  {
   "cell_type": "code",
   "execution_count": 17,
   "id": "c91be3ed-46a0-4583-b401-bf30a5d0061a",
   "metadata": {},
   "outputs": [
    {
     "data": {
      "text/plain": [
       "'29-10-2011 21:27:21'"
      ]
     },
     "execution_count": 17,
     "metadata": {},
     "output_type": "execute_result"
    }
   ],
   "source": [
    "dt.strftime(\"%d-%m-%Y %H:%M:%S\")"
   ]
  },
  {
   "cell_type": "code",
   "execution_count": 25,
   "id": "c57ff5bd-ef3f-4243-b1ee-519e24ae9de9",
   "metadata": {},
   "outputs": [
    {
     "data": {
      "text/plain": [
       "datetime.datetime(2024, 5, 10, 0, 0)"
      ]
     },
     "execution_count": 25,
     "metadata": {},
     "output_type": "execute_result"
    }
   ],
   "source": [
    "datetime.strptime(\"10052024\", \"%d%m%Y\")"
   ]
  },
  {
   "cell_type": "code",
   "execution_count": 29,
   "id": "70c1448c-061e-4969-bcb7-658f6309a6ff",
   "metadata": {},
   "outputs": [
    {
     "data": {
      "text/plain": [
       "datetime.datetime(2024, 5, 10, 10, 5, 22)"
      ]
     },
     "execution_count": 29,
     "metadata": {},
     "output_type": "execute_result"
    }
   ],
   "source": [
    "dt_hour=datetime.strptime(\"20240510100522\", \"%Y%m%d%H%M%S\")\n",
    "dt_hour"
   ]
  },
  {
   "cell_type": "code",
   "execution_count": 30,
   "id": "e0a6c337-1749-4c61-9df7-fd6c49e069f6",
   "metadata": {},
   "outputs": [
    {
     "data": {
      "text/plain": [
       "datetime.datetime(2024, 5, 10, 10, 0)"
      ]
     },
     "execution_count": 30,
     "metadata": {},
     "output_type": "execute_result"
    }
   ],
   "source": [
    "dt_1=dt_hour.replace(minute=0,second=0)\n",
    "#by using of replace we can edit the time or anything. remember that this replace function doesn't\n",
    "#effect the original data it always produces a new objects\n",
    "dt_1"
   ]
  },
  {
   "cell_type": "code",
   "execution_count": 36,
   "id": "21b2cec0-5e5d-4d21-b11a-729bcd056e36",
   "metadata": {},
   "outputs": [
    {
     "data": {
      "text/plain": [
       "datetime.datetime(2024, 5, 10, 10, 5, 22)"
      ]
     },
     "execution_count": 36,
     "metadata": {},
     "output_type": "execute_result"
    }
   ],
   "source": [
    "dt_hour\n",
    "#it is immutable type"
   ]
  },
  {
   "cell_type": "code",
   "execution_count": 38,
   "id": "d84d019f-d2f4-4825-9035-a92bfb7b54f7",
   "metadata": {},
   "outputs": [
    {
     "data": {
      "text/plain": [
       "datetime.timedelta(days=4576, seconds=45481)"
      ]
     },
     "execution_count": 38,
     "metadata": {},
     "output_type": "execute_result"
    }
   ],
   "source": [
    "dt3=dt_hour-dt\n",
    "dt3"
   ]
  },
  {
   "cell_type": "code",
   "execution_count": 40,
   "id": "cbdb4413-6931-4980-b173-164b66399109",
   "metadata": {},
   "outputs": [
    {
     "data": {
      "text/plain": [
       "datetime.datetime(2024, 5, 10, 10, 5, 22)"
      ]
     },
     "execution_count": 40,
     "metadata": {},
     "output_type": "execute_result"
    }
   ],
   "source": [
    "dt3+dt \n",
    "#adding time delta to datetime produces a new shifted date time."
   ]
  }
 ],
 "metadata": {
  "kernelspec": {
   "display_name": "Python 3 (ipykernel)",
   "language": "python",
   "name": "python3"
  },
  "language_info": {
   "codemirror_mode": {
    "name": "ipython",
    "version": 3
   },
   "file_extension": ".py",
   "mimetype": "text/x-python",
   "name": "python",
   "nbconvert_exporter": "python",
   "pygments_lexer": "ipython3",
   "version": "3.11.7"
  }
 },
 "nbformat": 4,
 "nbformat_minor": 5
}
